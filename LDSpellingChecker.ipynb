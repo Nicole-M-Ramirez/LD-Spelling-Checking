{
 "cells": [
  {
   "cell_type": "code",
   "execution_count": 84,
   "id": "b582ba86-d537-481d-b721-6581719b0fd4",
   "metadata": {},
   "outputs": [],
   "source": [
    "def levenshteinFullMatrix(str1, str2):\n",
    "    m = len(str1)\n",
    "    n = len(str2)\n",
    " \n",
    "    # Initialize a matrix to store the edit distances\n",
    "    dp = [[0 for _ in range(n + 1)] for _ in range(m + 1)]\n",
    " \n",
    "    # Initialize the first row and column with values from 0 to m and 0 to n respectively\n",
    "    for i in range(m + 1):\n",
    "        dp[i][0] = i\n",
    "    for j in range(n + 1):\n",
    "        dp[0][j] = j\n",
    " \n",
    "    # Fill the matrix using dynamic programming to compute edit distances\n",
    "    for i in range(1, m + 1):\n",
    "        for j in range(1, n + 1):\n",
    "            if str1[i - 1] == str2[j - 1]:\n",
    "                # Characters match, no operation needed\n",
    "                dp[i][j] = dp[i - 1][j - 1]\n",
    "            else:\n",
    "                # Characters don't match, choose minimum cost among insertion, deletion, or substitution\n",
    "                dp[i][j] = 1 + min(dp[i][j - 1], dp[i - 1][j], dp[i - 1][j - 1])\n",
    " \n",
    "    # Return the edit distance between the strings\n",
    "    return dp[m][n]\n",
    " "
   ]
  },
  {
   "cell_type": "code",
   "execution_count": 86,
   "id": "6bcf1043-218c-400e-9cb0-1366b562d19e",
   "metadata": {},
   "outputs": [],
   "source": [
    "def CheckBestMatch(data, word):\n",
    "    bestMatchLD = levenshteinFullMatrix(data[0], word)\n",
    "    bestMatchWord = data[0]\n",
    "    \n",
    "    for i in range(1,len(data)):\n",
    "        LD = levenshteinFullMatrix(data[i], word)\n",
    "        \n",
    "        if (LD <= bestMatchLD):\n",
    "            bestMatchLD = LD\n",
    "            bestMatchWord = data[i]\n",
    "\n",
    "    if(bestMatchLD == 0 and bestMatchWord != \"\"):\n",
    "        print(\"Your spelling is correct\")\n",
    "    elif(bestMatchWord != \"\"):\n",
    "       print(\"Word fix suggestion:\",bestMatchWord)\n",
    "    else:\n",
    "       print(\"No matches found\")"
   ]
  },
  {
   "cell_type": "code",
   "execution_count": 88,
   "id": "99ffd05d-3687-4118-9404-3682fee797c7",
   "metadata": {},
   "outputs": [],
   "source": [
    "import csv\n",
    "def getDataSet(filename):\n",
    "    csvFile = []\n",
    "    with open(filename, mode ='r')as file:\n",
    "      item = csv.reader(file)\n",
    "      for lines in item:\n",
    "            csvFile.append(lines[1])\n",
    "\n",
    "    csvFile.pop(0)\n",
    "    return csvFile"
   ]
  },
  {
   "cell_type": "code",
   "execution_count": 92,
   "id": "e72ba6d5-72da-4dea-aa29-f8f48d7b3e61",
   "metadata": {},
   "outputs": [
    {
     "name": "stdout",
     "output_type": "stream",
     "text": [
      "Word fix suggestion: Tiger\n",
      "Word fix suggestion: Bird\n",
      "Word fix suggestion: American Water Spaniel\n"
     ]
    }
   ],
   "source": [
    "csvFile = getDataSet(\"animal-names.csv\")\n",
    "misspelledText1 = \"Tiegr\"\n",
    "misspelledText2 = \"iird\"\n",
    "misspelledText3 = \"Amercian Wate Spanier\"\n",
    "CheckBestMatch(csvFile, misspelledText1)\n",
    "CheckBestMatch(csvFile, misspelledText2)\n",
    "CheckBestMatch(csvFile, misspelledText3)\n",
    "\n"
   ]
  },
  {
   "cell_type": "code",
   "execution_count": null,
   "id": "cdf6d251-16da-4fed-a226-e7f81a384873",
   "metadata": {},
   "outputs": [],
   "source": []
  },
  {
   "cell_type": "code",
   "execution_count": null,
   "id": "05bc9956-fa1a-4fc9-965e-046108223651",
   "metadata": {},
   "outputs": [],
   "source": []
  }
 ],
 "metadata": {
  "kernelspec": {
   "display_name": "Python [conda env:base] *",
   "language": "python",
   "name": "conda-base-py"
  },
  "language_info": {
   "codemirror_mode": {
    "name": "ipython",
    "version": 3
   },
   "file_extension": ".py",
   "mimetype": "text/x-python",
   "name": "python",
   "nbconvert_exporter": "python",
   "pygments_lexer": "ipython3",
   "version": "3.12.7"
  }
 },
 "nbformat": 4,
 "nbformat_minor": 5
}
